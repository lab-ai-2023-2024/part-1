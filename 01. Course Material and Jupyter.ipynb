{
 "cells": [
  {
   "cell_type": "markdown",
   "metadata": {
    "slideshow": {
     "slide_type": "slide"
    }
   },
   "source": [
    "# Course Format and Tools"
   ]
  },
  {
   "cell_type": "markdown",
   "metadata": {
    "slideshow": {
     "slide_type": "subslide"
    }
   },
   "source": [
    "## The Course\n",
    "\n",
    "**This is the second module of the Lab of AI application course**\n",
    "\n",
    "...Where we are mostly going to talk about _Machine Learning_\n",
    "\n",
    "* Before we can start in earnest, however\n",
    "* ...We need to familiarize with a few tools, because... "
   ]
  },
  {
   "cell_type": "markdown",
   "metadata": {
    "slideshow": {
     "slide_type": "-"
    }
   },
   "source": [
    "**The module will be delivered as _a series of tutorials_**\n",
    "\n",
    "* We will discuss theoretical content when needed\n",
    "* ...But mostly we will learn about ML by solving simple use cases"
   ]
  },
  {
   "cell_type": "markdown",
   "metadata": {},
   "source": [
    "**Exercises will be mostly about playing around with the tutorial code**\n",
    "\n",
    "* Nobody expects you to become an expert\n",
    "* ...But the ability to write simple code will be required for the exam"
   ]
  },
  {
   "cell_type": "markdown",
   "metadata": {
    "slideshow": {
     "slide_type": "subslide"
    }
   },
   "source": [
    "## Jupyter\n",
    "\n",
    "**The first tools we'll use throughout the module is called [Jupyter](https://en.wikipedia.org/wiki/Project_Jupyter)**\n",
    "\n",
    "...Which is an open-source project about _interactive computation environments_\n",
    "\n",
    "* The project offers a few tools to write code\n",
    "* ...Inspect the results\n",
    "* ...And the modify the code until you are satisfied with the outcome"
   ]
  },
  {
   "cell_type": "markdown",
   "metadata": {},
   "source": [
    "**The project provides three main tools**\n",
    "\n",
    "* Jupyter _console_, i.e. an interactive terminal\n",
    "* Jupyter _notebook_, i.e. an interactive web tool combining text and code\n",
    "* Jupyter _lab_, which builds over the notebook pushing it close to an IDE\n",
    "\n",
    "Multiple programming languages are supported"
   ]
  },
  {
   "cell_type": "markdown",
   "metadata": {
    "slideshow": {
     "slide_type": "subslide"
    }
   },
   "source": [
    "## Jupyter Notebooks\n",
    "\n",
    "**In particular, we will use Jupyter notebooks**\n",
    "\n",
    "...Which work by relying on three main processes:\n",
    "\n",
    "* A process (_server_) allows access the notebooks as web pages\n",
    "* Your _browser_ displays the pages and an editing UI\n",
    "* An interpreter (_kernel_) handles code execution\n",
    "\n",
    "**A notebook is split into _cells_ (displayed as boxes)**\n",
    "\n",
    "There two types of cells, and both can be _run_\n",
    "\n",
    "* _Text_ cells\n",
    "  - When run they are rendered as rich text (fonts, pictures, etc.)\n",
    "* _Code_ cells\n",
    "  - When they are run, the code they contain is sent to the kernel\n",
    "  - ...And the results are displayed immediately underneath"
   ]
  },
  {
   "cell_type": "markdown",
   "metadata": {
    "slideshow": {
     "slide_type": "subslide"
    }
   },
   "source": [
    "## Selecting Cells\n",
    "\n",
    "**You can select a cell by simply clicking over the box**\n",
    "\n",
    "* With a single click, you'll open the cell in _normal mode_\n",
    "* ...Which can be recognized from the _blue_ left-border\n",
    "\n",
    "<center>\n",
    "<img src=\"assets/cell_normal.png\" width=100%/>\n",
    "</center>\n",
    "\n",
    "* With a double-click, you'll open the cell in _edit mode_\n",
    "* ...Which can be recognized from the _green_ left-border\n",
    "* You can also press `enter` with the cell selected in normal mode\n",
    "\n",
    "<center>\n",
    "<img src=\"assets/cell_edit.png\" width=100%/>\n",
    "</center>"
   ]
  },
  {
   "cell_type": "markdown",
   "metadata": {
    "slideshow": {
     "slide_type": "subslide"
    }
   },
   "source": [
    "## Editing Cells\n",
    "\n",
    "**You can modify cells in more than one way**\n",
    "\n",
    "* First, in edit mode you can _change their content_ by just writing\n",
    "* You can also add new cells with <img src=\"assets/add_button.png\" style=\"display: inline-block; width:2em\"/>\n",
    "* You can cut, copy, and paste cells with <img src=\"assets/cut_copy_paste_button.png\" style=\"display: inline-block; width:6em\"/>\n",
    "* You can change the type of a cells with <img src=\"assets/cell_type.png\" style=\"display: inline-block; width:8em\"/>\n",
    "* You can save the notebook with <img src=\"assets/save_button.png\" style=\"display: inline-block; width:2em\"/>"
   ]
  },
  {
   "cell_type": "markdown",
   "metadata": {
    "slideshow": {
     "slide_type": "subslide"
    }
   },
   "source": [
    "## Running Cells\n",
    "\n",
    "**You can control cell execution with these buttons:**\n",
    "\n",
    "<center>\n",
    "<img src=\"assets/run_buttons.png\" width=20%/>\n",
    "</center>\n",
    "\n",
    "* The first button runs a cell\n",
    "* The second interrupts execution\n",
    "  - ...Which is useful when you accidentally start a long operation\n",
    "* The third restarts the kernel\n",
    "  - ...Which will kill all variables, functions, and modules\n",
    "* The last one will restarts the kernel and runs the whole notebook\n",
    "\n",
    "A list of more advanced commands can be accessed by clicking <img src=\"assets/command_button.png\" style=\"display: inline-block; width:2em\"/>"
   ]
  },
  {
   "cell_type": "markdown",
   "metadata": {
    "slideshow": {
     "slide_type": "subslide"
    }
   },
   "source": [
    "## Text Cells\n",
    "\n",
    "**Text cells are written in [markdown](https://www.markdownguide.org/basic-syntax/) format**\n",
    "\n",
    "...Which is plain text with some simple conventions\n",
    "\n",
    "```markdown\n",
    "# A single \"hash\" means a title \n",
    "\n",
    "## Two hashes denote a subtitle, and so on\n",
    "\n",
    "* You can use stars for bullet lists\n",
    "- Dashes are fine, too\n",
    "\n",
    "**A double star (or underscore) is used for bold text**\n",
    "\n",
    "_A single underscore (or star) denotes emphasized text_\n",
    "```\n",
    "\n",
    "* You can open any text cell in this notebook in edit mode and play around"
   ]
  },
  {
   "cell_type": "markdown",
   "metadata": {
    "slideshow": {
     "slide_type": "subslide"
    }
   },
   "source": [
    "## Text Cells\n",
    "\n",
    "**When you run a text cell**\n",
    "\n",
    "* The markdown source is translated to HTML\n",
    "* ...Which is the language used for wen pages\n",
    "* Your browser can then render the result in an esthetically pleasing format\n",
    "\n",
    "**Try to make some changes to the following cell:**"
   ]
  },
  {
   "cell_type": "markdown",
   "metadata": {},
   "source": [
    "* Change this text as you wish!\n",
    "* If you then get nostalgic about its previous look\n",
    "* ...You can still press ctrl+z to undo the last action\n",
    "* ...If that fails, you can stil re-download the lecture ;-)"
   ]
  },
  {
   "cell_type": "markdown",
   "metadata": {
    "slideshow": {
     "slide_type": "subslide"
    }
   },
   "source": [
    "## Code Cells\n",
    "\n",
    "**Our code cells will be written in Python**\n",
    "\n",
    "The tool can be configured to support [Julia](https://julialang.org/) an [R](https://www.r-project.org/) as well\n",
    "\n",
    "* Code cells and sent to the kernel for execution\n",
    "* ...And the results are then display (in HTLP format, in some cases)\n",
    "\n",
    "**Here's a simple code cell:**"
   ]
  },
  {
   "cell_type": "code",
   "execution_count": 1,
   "metadata": {},
   "outputs": [
    {
     "name": "stdout",
     "output_type": "stream",
     "text": [
      "Hello, world!\n"
     ]
    }
   ],
   "source": [
    "print('Hello, world!')"
   ]
  },
  {
   "cell_type": "markdown",
   "metadata": {},
   "source": [
    "**...And, if you are curious:**\n",
    "\n",
    "* I am using  [this plugin](https://rise.readthedocs.io/en/stable/) to show the notebook in presentation mode\n",
    "* We won't cover that in the course, but it's not super complicated to use"
   ]
  },
  {
   "cell_type": "markdown",
   "metadata": {
    "slideshow": {
     "slide_type": "subslide"
    }
   },
   "source": [
    "## Other Requirements\n",
    "\n",
    "**We will also use a number of _Python modules_**\n",
    "\n",
    "Most of these will be well-established modules for Data Science\n",
    "\n",
    "* `numpy` for vector computation\n",
    "* `scipy` for numerical algorithms\n",
    "* `pandas` for dataset management and inspection\n",
    "* ...\n",
    "\n",
    "**Each lecture contains a `requirements.txt` file**\n",
    "\n",
    "* Inside the file you'll which modules are needed for the lecture\n",
    "* ...And you'll be able to install them using:\n",
    "  - [`conda`](https://docs.conda.io/en/latest/) if you are using Anaconda Python\n",
    "  - ...Or [`pip`](https://packaging.python.org/en/latest/tutorials/installing-packages/) for a regular Python distribution"
   ]
  },
  {
   "cell_type": "markdown",
   "metadata": {
    "slideshow": {
     "slide_type": "subslide"
    }
   },
   "source": [
    "## Other Requirements\n",
    "\n",
    "**We will also use a number of _Python modules_**\n",
    "\n",
    "We will also use _custom modules_\n",
    "\n",
    "* In particular in many lectures you'll find a folder called `util`\n",
    "* ...Which will contain a file called `util.py`\n",
    "\n",
    "**This is a module built ad-hoc for the given lecture**\n",
    "\n",
    "* Longer code section will not be included in the notebooks directly\n",
    "* ...But they will instead be provided in the module\n",
    "* If you are curious about their inner working\n",
    "* ...You can check the code directly (it's a standard Python source file)"
   ]
  },
  {
   "cell_type": "markdown",
   "metadata": {
    "slideshow": {
     "slide_type": "subslide"
    }
   },
   "source": [
    "## Other Requirements\n",
    "\n",
    "**Due to the use of custom modules**\n",
    "\n",
    "...We will often start our notebooks with these Jupyter directives:"
   ]
  },
  {
   "cell_type": "code",
   "execution_count": 2,
   "metadata": {},
   "outputs": [],
   "source": [
    "%load_ext autoreload\n",
    "%autoreload 2"
   ]
  },
  {
   "cell_type": "markdown",
   "metadata": {},
   "source": [
    "* These are not Python instructions, but directives for Jupyter\n",
    "* The first one loads an extension (called `autoreload`)\n",
    "* The secon one tells the extension to _reload all modules_ when a cell is run\n",
    "* With this trick, if we make a change to a module...\n",
    "* ...The change will immediately affect the notebook\n",
    "\n",
    "Normally, modules are reloaded _only if we restart the notebook_"
   ]
  }
 ],
 "metadata": {
  "celltoolbar": "Slideshow",
  "kernelspec": {
   "display_name": "Python 3 (ipykernel)",
   "language": "python",
   "name": "python3"
  },
  "language_info": {
   "codemirror_mode": {
    "name": "ipython",
    "version": 3
   },
   "file_extension": ".py",
   "mimetype": "text/x-python",
   "name": "python",
   "nbconvert_exporter": "python",
   "pygments_lexer": "ipython3",
   "version": "3.11.8"
  },
  "rise": {
   "center": false,
   "enable_chalkboard": true,
   "transition": "fade"
  }
 },
 "nbformat": 4,
 "nbformat_minor": 4
}
