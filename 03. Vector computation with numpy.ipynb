{
 "cells": [
  {
   "cell_type": "markdown",
   "metadata": {
    "slideshow": {
     "slide_type": "slide"
    }
   },
   "source": [
    "# The `numpy` Package"
   ]
  },
  {
   "cell_type": "markdown",
   "metadata": {
    "slideshow": {
     "slide_type": "subslide"
    }
   },
   "source": [
    "## Python and Machine Learning\n",
    "\n",
    "**Machine Learning applications typically involve**\n",
    "\n",
    "* Dealing with large amounts of data\n",
    "* Compuational-heavy algorithms\n",
    "* Complex pipelines of preprocessing/learning/inference\n",
    "\n",
    "> **Is it a good idea to use Python for that?**"
   ]
  },
  {
   "cell_type": "markdown",
   "metadata": {},
   "source": [
    "* Combining operations in complex pipelines is easy in Python\n",
    "* ...But the language itself is _rather slow_\n",
    "\n",
    "**And yet, Python is the nowadays the mainstream language for ML**"
   ]
  },
  {
   "cell_type": "markdown",
   "metadata": {
    "slideshow": {
     "slide_type": "subslide"
    }
   },
   "source": [
    "## Packages to the Rescue\n",
    "\n",
    "**The trick to get high-performance in Python is _using external packages_**\n",
    "\n",
    "Dedicated packages can provide:\n",
    "\n",
    "* Data structures to handle large amount of data\n",
    "* Efficient algorithms for frequently occurring problems\n",
    "\n",
    "Both can be implemented in high-performance languages, like C, C++, or Fortran"
   ]
  },
  {
   "cell_type": "markdown",
   "metadata": {},
   "source": [
    "**A fundamental package in this group is called [`numpy`](https://numpy.org/) and provides:**\n",
    "\n",
    "* A data structure to handle data in _tensor format_\n",
    "* Algorithms for a number of common numerical operators\n",
    "\n",
    "In a nutshell, `numpy` makes Python behave a bit like [Matlab](https://www.mathworks.com/products/matlab.html)"
   ]
  },
  {
   "cell_type": "markdown",
   "metadata": {
    "slideshow": {
     "slide_type": "subslide"
    }
   },
   "source": [
    "## The  `numpy.array` Class\n",
    "\n",
    "**The main data structure provided by `numpy` is called `array`**\n",
    "\n",
    "From a math standpoit, it corresponds to a _tensor_\n",
    "\n",
    "* A tensor is an $n$-dimensional collection of elements of a uniform type\n",
    "* Intuitively, it's a generalization of a vector to $n$ dimensions\n",
    "* $1$ dimension = vector, $2$ dimensions = matrix, $> 3$ dimensions = tensor"
   ]
  },
  {
   "cell_type": "markdown",
   "metadata": {},
   "source": [
    "From an implementation standpoint:\n",
    "\n",
    "* Data in an `array` is memorized in a single sequence\n",
    "* ...But the array also stores a \"shape\", listing the size of each dimension\n",
    "* This shape is used to determine how to access the elements"
   ]
  },
  {
   "cell_type": "markdown",
   "metadata": {
    "slideshow": {
     "slide_type": "subslide"
    }
   },
   "source": [
    "## The  `numpy.array` Class\n",
    "\n",
    "**Let's see as an example a $2x3$ matrix:**\n",
    "\n",
    "The actual matrix is:\n",
    "\n",
    "$$\n",
    "\\left(\\begin{array}{ccc}\n",
    "x_{0,0} & x_{0,1} & x_{0,2} \\\\\n",
    "x_{1,0} & x_{1,1} & x_{1,2}\n",
    "\\end{array}\\right)\n",
    "$$\n",
    "\n",
    "...Which is memorized as a sequence by rows, i.e.:\n",
    "\n",
    "$$\n",
    "\\left(\\begin{array}{cccccc}\n",
    "x_{0,0} & x_{0,1} & x_{0,2} &\n",
    "x_{1,0} & x_{1,1} & x_{1,2}\n",
    "\\end{array}\\right)\n",
    "$$\n",
    "\n",
    "* The _shape_ is in this acse $(2, 3)$\n",
    "* The two-dimension index $(i, j)$ corresponds to the linear index $3i + j$"
   ]
  },
  {
   "cell_type": "markdown",
   "metadata": {
    "slideshow": {
     "slide_type": "subslide"
    }
   },
   "source": [
    "## Using `numpy`\n",
    "\n",
    "**`numpy` is not part of a minimal Python installation**\n",
    "\n",
    "* You can find it pre-installed in scientific Python distributions (e.g. [Anaconda](https://www.anaconda.com/products/distribution))\n",
    "* ...Or you can install it using a package managed\n",
    "  - E.g. `pip install numpy`\n",
    "\n",
    "**You can import `numpy` as any other package**\n",
    "\n",
    "...Except that it has a canonical alias, i.e. `np`"
   ]
  },
  {
   "cell_type": "code",
   "execution_count": 1,
   "metadata": {},
   "outputs": [],
   "source": [
    "import numpy as np"
   ]
  },
  {
   "cell_type": "markdown",
   "metadata": {},
   "source": [
    "* Extensive documentation can be [found online](https://numpy.org/doc/stable/)\n",
    "* ...Or accessed with `help(numpy)` or `help('numpy')`"
   ]
  },
  {
   "cell_type": "markdown",
   "metadata": {
    "slideshow": {
     "slide_type": "subslide"
    }
   },
   "source": [
    "## Building an Array\n",
    "\n",
    "**Any iterable can be converted to an array via the `np.array` constructor:**"
   ]
  },
  {
   "cell_type": "code",
   "execution_count": 2,
   "metadata": {},
   "outputs": [
    {
     "name": "stdout",
     "output_type": "stream",
     "text": [
      "Original collection: [1, 2, 3]\n",
      "Array: [1 2 3]\n"
     ]
    }
   ],
   "source": [
    "x = [1, 2, 3]\n",
    "a = np.array(x)\n",
    "print('Original collection:', x)\n",
    "print('Array:', a)"
   ]
  },
  {
   "cell_type": "markdown",
   "metadata": {},
   "source": [
    "* The array shape can be access through the `shape` attribute:"
   ]
  },
  {
   "cell_type": "code",
   "execution_count": 3,
   "metadata": {},
   "outputs": [
    {
     "data": {
      "text/plain": [
       "(3,)"
      ]
     },
     "execution_count": 3,
     "metadata": {},
     "output_type": "execute_result"
    }
   ],
   "source": [
    "a.shape"
   ]
  },
  {
   "cell_type": "markdown",
   "metadata": {},
   "source": [
    "* `shape` is always a _tuple_ (with a single element for one-dimensional arrays)"
   ]
  },
  {
   "cell_type": "markdown",
   "metadata": {
    "slideshow": {
     "slide_type": "subslide"
    }
   },
   "source": [
    "## Building an Array\n",
    "\n",
    "**Using _nested iterables_ leads to multi-dimensional arrays**\n",
    "\n",
    "E.g. a list of list becomes a two-dimensional array"
   ]
  },
  {
   "cell_type": "code",
   "execution_count": 4,
   "metadata": {},
   "outputs": [
    {
     "name": "stdout",
     "output_type": "stream",
     "text": [
      "Original collection: [[1, 2, 3], [4, 5, 6]]\n",
      "Array:\n",
      "[[1 2 3]\n",
      " [4 5 6]]\n",
      "Shape: (2, 3)\n"
     ]
    }
   ],
   "source": [
    "x = [[1, 2, 3],\n",
    "     [4, 5, 6]]\n",
    "a = np.array(x)\n",
    "print('Original collection:', x)\n",
    "print('Array:')\n",
    "print(a)\n",
    "print('Shape:', a.shape)"
   ]
  },
  {
   "cell_type": "markdown",
   "metadata": {},
   "source": [
    "* In this case, the `shape` tuple has two elements\n",
    "* ...Respectively the number of rows and columns"
   ]
  },
  {
   "cell_type": "markdown",
   "metadata": {
    "slideshow": {
     "slide_type": "subslide"
    }
   },
   "source": [
    "## Building an Array\n",
    "\n",
    "**Ad-hoc functions can be used to build notable arrays**\n",
    "\n",
    "For an all-zero array you can use `zeros`"
   ]
  },
  {
   "cell_type": "code",
   "execution_count": 5,
   "metadata": {},
   "outputs": [
    {
     "name": "stdout",
     "output_type": "stream",
     "text": [
      "[[0. 0. 0.]\n",
      " [0. 0. 0.]]\n"
     ]
    }
   ],
   "source": [
    "shape = (2, 3) # number of rows and columns\n",
    "print(np.zeros(shape))"
   ]
  },
  {
   "cell_type": "markdown",
   "metadata": {},
   "source": [
    "For an all-one array you can use `ones`:"
   ]
  },
  {
   "cell_type": "code",
   "execution_count": 6,
   "metadata": {},
   "outputs": [
    {
     "name": "stdout",
     "output_type": "stream",
     "text": [
      "[[1. 1. 1.]\n",
      " [1. 1. 1.]]\n"
     ]
    }
   ],
   "source": [
    "print(np.ones(shape))"
   ]
  },
  {
   "cell_type": "markdown",
   "metadata": {
    "slideshow": {
     "slide_type": "subslide"
    }
   },
   "source": [
    "## Building an Array\n",
    "\n",
    "**Ad-hoc functions can be used to build notable arrays**\n",
    "\n",
    "For an array filled with a single, user-chosen, values you can use `full`:"
   ]
  },
  {
   "cell_type": "code",
   "execution_count": 7,
   "metadata": {},
   "outputs": [
    {
     "name": "stdout",
     "output_type": "stream",
     "text": [
      "[[nan nan nan]\n",
      " [nan nan nan]]\n"
     ]
    }
   ],
   "source": [
    "shape = (2, 3) # number of rows and columns\n",
    "val = np.NaN\n",
    "print(np.full(shape, np.NaN))"
   ]
  },
  {
   "cell_type": "markdown",
   "metadata": {},
   "source": [
    "* `NaN` stands for Not a Number\n",
    "* It's the equivalent of a missing/ill defined value\n",
    "\n",
    "For the identity matrix, you can use `eye`:"
   ]
  },
  {
   "cell_type": "code",
   "execution_count": 8,
   "metadata": {},
   "outputs": [
    {
     "name": "stdout",
     "output_type": "stream",
     "text": [
      "[[1. 0. 0.]\n",
      " [0. 1. 0.]\n",
      " [0. 0. 1.]]\n"
     ]
    }
   ],
   "source": [
    "n = 3\n",
    "print(np.eye(n))"
   ]
  },
  {
   "cell_type": "markdown",
   "metadata": {
    "slideshow": {
     "slide_type": "subslide"
    }
   },
   "source": [
    "## Building an Array\n",
    "\n",
    "**There are two ways to build arrays with uniformly spaced values**\n",
    "\n",
    "If you know the spacing, you can use `arange`:"
   ]
  },
  {
   "cell_type": "code",
   "execution_count": 9,
   "metadata": {},
   "outputs": [
    {
     "name": "stdout",
     "output_type": "stream",
     "text": [
      "[1.  1.5 2.  2.5 3.  3.5 4.  4.5 5.  5.5 6.  6.5 7.  7.5 8.  8.5 9.  9.5]\n"
     ]
    }
   ],
   "source": [
    "x = np.arange(1, 10, step=0.5)\n",
    "print(x)"
   ]
  },
  {
   "cell_type": "markdown",
   "metadata": {},
   "source": [
    "If you know how many numbers you need, you can use `linspace`"
   ]
  },
  {
   "cell_type": "code",
   "execution_count": 10,
   "metadata": {},
   "outputs": [
    {
     "name": "stdout",
     "output_type": "stream",
     "text": [
      "[0.  1.6 3.2 4.8 6.4 8. ]\n"
     ]
    }
   ],
   "source": [
    "x = np.linspace(start=0, stop=8, num=6)\n",
    "print(x)"
   ]
  },
  {
   "cell_type": "markdown",
   "metadata": {},
   "source": [
    "* The default value for `step` is 1\n",
    "* The default value for `num` is 50 "
   ]
  },
  {
   "cell_type": "markdown",
   "metadata": {
    "slideshow": {
     "slide_type": "subslide"
    }
   },
   "source": [
    "## Type of an Array\n",
    "\n",
    "**All elements in an array must be of the same type**\n",
    "\n",
    "...Which can be accessed via the `dtype` attribute"
   ]
  },
  {
   "cell_type": "code",
   "execution_count": 11,
   "metadata": {},
   "outputs": [
    {
     "data": {
      "text/plain": [
       "dtype('float64')"
      ]
     },
     "execution_count": 11,
     "metadata": {},
     "output_type": "execute_result"
    }
   ],
   "source": [
    "x = np.zeros(3)\n",
    "x.dtype"
   ]
  },
  {
   "cell_type": "markdown",
   "metadata": {},
   "source": [
    "* If you try converting a collection with non-uniform types\n",
    "* ...`numpy` tries to cast them to the same, most-general, type"
   ]
  },
  {
   "cell_type": "code",
   "execution_count": 12,
   "metadata": {},
   "outputs": [
    {
     "name": "stdout",
     "output_type": "stream",
     "text": [
      "[1.  2.3 1. ] float64\n"
     ]
    }
   ],
   "source": [
    "x = np.array([1, 2.3, True])\n",
    "print(x, x.dtype)"
   ]
  },
  {
   "cell_type": "markdown",
   "metadata": {
    "slideshow": {
     "slide_type": "subslide"
    }
   },
   "source": [
    "## Array Operators\n",
    "\n",
    "**Most basic operators are redefined for arrays**\n",
    "\n",
    "In particular, the apply _element wise_ to the involved arrays\n",
    "\n",
    "* Some example with arithmetic operators"
   ]
  },
  {
   "cell_type": "code",
   "execution_count": 13,
   "metadata": {},
   "outputs": [
    {
     "name": "stdout",
     "output_type": "stream",
     "text": [
      "x + y: [5 7 9]\n",
      "x * y: [ 4 10 18]\n",
      "x - y: [-3 -3 -3]\n",
      "x / y: [0.25 0.4  0.5 ]\n",
      "y % 2: [0 1 0]\n"
     ]
    }
   ],
   "source": [
    "x = np.array([1, 2, 3])\n",
    "y = np.array([4, 5, 6])\n",
    "print('x + y:', x + y)\n",
    "print('x * y:', x * y)\n",
    "print('x - y:', x - y)\n",
    "print('x / y:', x / y)\n",
    "print('y % 2:', y % 2)"
   ]
  },
  {
   "cell_type": "markdown",
   "metadata": {
    "slideshow": {
     "slide_type": "subslide"
    }
   },
   "source": [
    "## Array Operators\n",
    "\n",
    "**Most basic operators are redefined for arrays**\n",
    "\n",
    "In particular, the apply _element wise_ to the involved arrays\n",
    "\n",
    "* Some example with comparison operators"
   ]
  },
  {
   "cell_type": "code",
   "execution_count": 14,
   "metadata": {},
   "outputs": [
    {
     "name": "stdout",
     "output_type": "stream",
     "text": [
      "x <= y: [ True  True False]\n",
      "x == y: [False  True False]\n"
     ]
    }
   ],
   "source": [
    "x = np.array([1, 2, 3])\n",
    "y = np.array([3, 2, 1])\n",
    "print('x <= y:', x <= y)\n",
    "print('x == y:', x == y)"
   ]
  },
  {
   "cell_type": "markdown",
   "metadata": {},
   "source": [
    "* The results is an array with a logical type"
   ]
  },
  {
   "cell_type": "markdown",
   "metadata": {
    "slideshow": {
     "slide_type": "subslide"
    }
   },
   "source": [
    "## Array Operators\n",
    "\n",
    "**Most basic operators are redefined for arrays**\n",
    "\n",
    "In particular, the apply _element wise_ to the involved arrays\n",
    "\n",
    "* The `&`, `|`, and `~` operatore no longer apply bit-wise\n",
    "* ...But element-wise (the same as all the others)"
   ]
  },
  {
   "cell_type": "code",
   "execution_count": 15,
   "metadata": {},
   "outputs": [
    {
     "name": "stdout",
     "output_type": "stream",
     "text": [
      "~(x <= y): [False False  True]\n",
      "(x <= y) | (x >= y): [ True  True  True]\n",
      "(x <= y) & (x >= y): [False  True False]\n"
     ]
    }
   ],
   "source": [
    "print('~(x <= y):', ~(x <= y))\n",
    "print('(x <= y) | (x >= y):', (x <= y) | (x >= y))\n",
    "print('(x <= y) & (x >= y):', (x <= y) & (x >= y))"
   ]
  },
  {
   "cell_type": "markdown",
   "metadata": {},
   "source": [
    "* Priorities are a bit tricky with these operators\n",
    "* E.g. `&` and `|` has higher priority than comparison operators\n",
    "* When in doubt, add brackets ;-)"
   ]
  },
  {
   "cell_type": "markdown",
   "metadata": {
    "slideshow": {
     "slide_type": "subslide"
    }
   },
   "source": [
    "## Accessing Arrays\n",
    "\n",
    "**Arrays can be accesses via the indexing operator, i.e. `[]`**\n",
    "\n",
    "In particular, we use _tuple indices_ to access single elements"
   ]
  },
  {
   "cell_type": "code",
   "execution_count": 16,
   "metadata": {},
   "outputs": [
    {
     "name": "stdout",
     "output_type": "stream",
     "text": [
      "3\n"
     ]
    }
   ],
   "source": [
    "x = np.array([[1, 2, 3], [4, 5, 6]])\n",
    "print(x[0, 2]) # row 0, column 2"
   ]
  },
  {
   "cell_type": "markdown",
   "metadata": {},
   "source": [
    "Slice indexing is also possible:"
   ]
  },
  {
   "cell_type": "code",
   "execution_count": 17,
   "metadata": {},
   "outputs": [
    {
     "name": "stdout",
     "output_type": "stream",
     "text": [
      "[1 2 3]\n",
      "[2 5]\n",
      "[[1 2]\n",
      " [4 5]]\n"
     ]
    }
   ],
   "source": [
    "print(x[0, :]) # The whole row 0\n",
    "print(x[:, 1]) # The whole column 1\n",
    "print(x[:2, :2]) # First two rows and columns"
   ]
  },
  {
   "cell_type": "markdown",
   "metadata": {},
   "source": [
    "* Basically, you can specify one slide per dimension"
   ]
  },
  {
   "cell_type": "markdown",
   "metadata": {
    "slideshow": {
     "slide_type": "subslide"
    }
   },
   "source": [
    "## Accessing Arrays\n",
    "\n",
    "**It's possible to access arrays via a collection of indices**\n",
    "\n",
    "This is most often employed with single-dimenension arrays:"
   ]
  },
  {
   "cell_type": "code",
   "execution_count": 18,
   "metadata": {},
   "outputs": [
    {
     "name": "stdout",
     "output_type": "stream",
     "text": [
      "[ 2  6 10]\n"
     ]
    }
   ],
   "source": [
    "x = np.array([2, 4, 6, 8, 10, 12])\n",
    "idx = [0, 2, 4]\n",
    "print(x[idx]) # accesso agli indici 0, 2 e 4"
   ]
  },
  {
   "cell_type": "markdown",
   "metadata": {},
   "source": [
    "* First, we build an iterable with the desired indexes\n",
    "* ...Then we pass it as the argument for the indexing operator\n",
    "* I.e. between the square brackets `[]`\n",
    "\n",
    "The results is an array containing the elements at the specified indices"
   ]
  },
  {
   "cell_type": "markdown",
   "metadata": {
    "slideshow": {
     "slide_type": "subslide"
    }
   },
   "source": [
    "## Accessing Arrays\n",
    "\n",
    "**Arrays can be access via a \"logic mask\"**\n",
    "\n",
    "* The mask is second array, having the same shape\n",
    "* ...But filled with boolean values"
   ]
  },
  {
   "cell_type": "code",
   "execution_count": 19,
   "metadata": {},
   "outputs": [
    {
     "name": "stdout",
     "output_type": "stream",
     "text": [
      "[[1 2 3]\n",
      " [4 5 6]]\n",
      "[[ True  True False]\n",
      " [False False  True]]\n"
     ]
    }
   ],
   "source": [
    "x = np.array([[1, 2, 3], [4, 5, 6]])\n",
    "print(x)\n",
    "mask = np.array([[True, True, False], [False, False, True]])\n",
    "print(mask)"
   ]
  },
  {
   "cell_type": "markdown",
   "metadata": {},
   "source": [
    "* Using such a mask an index always returns a one-dimensional arrays\n",
    "* ...Containig the elements whose value is `True` in the mask"
   ]
  },
  {
   "cell_type": "code",
   "execution_count": 20,
   "metadata": {},
   "outputs": [
    {
     "name": "stdout",
     "output_type": "stream",
     "text": [
      "[1 2 6]\n"
     ]
    }
   ],
   "source": [
    "print(x[mask])"
   ]
  },
  {
   "cell_type": "markdown",
   "metadata": {
    "slideshow": {
     "slide_type": "subslide"
    }
   },
   "source": [
    "## Accessing Arrays\n",
    "\n",
    "**Arrays can be access via a \"logic mask\"**\n",
    "\n",
    "It's often used to retrieve elements that satisfy a given condition:"
   ]
  },
  {
   "cell_type": "code",
   "execution_count": 21,
   "metadata": {},
   "outputs": [
    {
     "data": {
      "text/plain": [
       "array([2, 4, 6])"
      ]
     },
     "execution_count": 21,
     "metadata": {},
     "output_type": "execute_result"
    }
   ],
   "source": [
    "x = np.array([[1, 2, 3], [4, 5, 6]])\n",
    "x[x % 2 == 0]"
   ]
  },
  {
   "cell_type": "markdown",
   "metadata": {},
   "source": [
    "In this example:\n",
    "\n",
    "* The expression `x % 2 == 0` returns a Boolean-type array\n",
    "* ...Which is then used as mask to access the `x` array\n",
    "\n",
    "The results contained all elements in `x` having an even value"
   ]
  },
  {
   "cell_type": "markdown",
   "metadata": {
    "slideshow": {
     "slide_type": "subslide"
    }
   },
   "source": [
    "## Assigning Arrays\n",
    "\n",
    "**It's possible to assign individual elements within an array**\n",
    "\n",
    "...Just like it is done for lists:"
   ]
  },
  {
   "cell_type": "code",
   "execution_count": 22,
   "metadata": {},
   "outputs": [
    {
     "name": "stdout",
     "output_type": "stream",
     "text": [
      "[[1 2 3]\n",
      " [4 5 6]]\n",
      "[[ 1  2  3]\n",
      " [ 4 -1  6]]\n"
     ]
    }
   ],
   "source": [
    "x = np.array([[1, 2, 3], [4, 5, 6]])\n",
    "print(x)\n",
    "x[1, 1] = -1\n",
    "print(x)"
   ]
  },
  {
   "cell_type": "markdown",
   "metadata": {
    "slideshow": {
     "slide_type": "subslide"
    }
   },
   "source": [
    "## Assigning Arrays\n",
    "\n",
    "**It's possible to assign entire sub-parts of an array**\n",
    "\n",
    "E.g. we can assign a whole column:"
   ]
  },
  {
   "cell_type": "code",
   "execution_count": 23,
   "metadata": {},
   "outputs": [
    {
     "name": "stdout",
     "output_type": "stream",
     "text": [
      "[[1 2 3]\n",
      " [4 5 6]]\n",
      "[[ 1 -1  3]\n",
      " [ 4 -1  6]]\n"
     ]
    }
   ],
   "source": [
    "x = np.array([[1, 2, 3], [4, 5, 6]])\n",
    "print(x)\n",
    "x[:, 1] = [-1, -1]\n",
    "print(x)"
   ]
  },
  {
   "cell_type": "markdown",
   "metadata": {},
   "source": [
    "...Or a row:"
   ]
  },
  {
   "cell_type": "code",
   "execution_count": 24,
   "metadata": {},
   "outputs": [
    {
     "name": "stdout",
     "output_type": "stream",
     "text": [
      "[[-1 -1 -1]\n",
      " [ 4 -1  6]]\n"
     ]
    }
   ],
   "source": [
    "x[0, :] = [-1, -1, -1]\n",
    "print(x)"
   ]
  },
  {
   "cell_type": "markdown",
   "metadata": {
    "slideshow": {
     "slide_type": "subslide"
    }
   },
   "source": [
    "## Assigning Arrays\n",
    "\n",
    "**It's possible to assign entire sub-parts of an array**\n",
    "\n",
    "* If the shape of the selected sub-part\n",
    "* ...Is different from the shape of the assigned object\n",
    "* `numpy` trys to bridge the gap by repeating the assigned object\n",
    "\n",
    "The typical case is that of assigning a scalar to an tensor:"
   ]
  },
  {
   "cell_type": "code",
   "execution_count": 25,
   "metadata": {},
   "outputs": [
    {
     "name": "stdout",
     "output_type": "stream",
     "text": [
      "[[1 2 3]\n",
      " [4 5 6]]\n",
      "[[-1 -1  3]\n",
      " [-1 -1  6]]\n"
     ]
    }
   ],
   "source": [
    "x = np.array([[1, 2, 3], [4, 5, 6]])\n",
    "print(x)\n",
    "x[:2, :2] = -1\n",
    "print(x)"
   ]
  },
  {
   "cell_type": "markdown",
   "metadata": {},
   "source": [
    "* In this case, all the selected elements\n",
    "* ...Are replaced with the specified scalar"
   ]
  },
  {
   "cell_type": "markdown",
   "metadata": {
    "slideshow": {
     "slide_type": "subslide"
    }
   },
   "source": [
    "## Functions and Methods in `numpy`\n",
    "\n",
    "**`numpy` provides a number of functions to work with arrays**\n",
    "\n",
    "Here are a few _arithmetic_ functions:"
   ]
  },
  {
   "cell_type": "code",
   "execution_count": 26,
   "metadata": {},
   "outputs": [
    {
     "name": "stdout",
     "output_type": "stream",
     "text": [
      "[ 1  4  9 16]\n",
      "[1.         1.41421356 1.73205081 2.        ]\n",
      "[ 2.71828183  7.3890561  20.08553692 54.59815003]\n",
      "[0.         0.69314718 1.09861229 1.38629436]\n",
      "[ 0.84147098  0.90929743  0.14112001 -0.7568025 ]\n",
      "[ 0.54030231 -0.41614684 -0.9899925  -0.65364362]\n"
     ]
    }
   ],
   "source": [
    "x = np.array([1, 2, 3, 4])\n",
    "print(np.square(x)) # quadrato elemento per elemento\n",
    "print(np.sqrt(x)) # radice quadrata elemento per elemento\n",
    "print(np.exp(x)) # esponenziale elemento per elemento\n",
    "print(np.log(x)) # logaritmo elemento per elemento\n",
    "print(np.sin(x)) # seno elemento per elemento\n",
    "print(np.cos(x)) # coseno elemento per elemento"
   ]
  },
  {
   "cell_type": "markdown",
   "metadata": {
    "slideshow": {
     "slide_type": "subslide"
    }
   },
   "source": [
    "## Functions and Methods in `numpy`\n",
    "\n",
    "**`numpy` provides a number of functions to work with arrays**\n",
    "\n",
    "...And here we have some _aggregation_ functions:"
   ]
  },
  {
   "cell_type": "code",
   "execution_count": 27,
   "metadata": {},
   "outputs": [
    {
     "name": "stdout",
     "output_type": "stream",
     "text": [
      "24\n",
      "10\n",
      "2.5\n",
      "1.118033988749895\n"
     ]
    }
   ],
   "source": [
    "x = np.array([1, 2, 3, 4])\n",
    "print(np.prod(x)) # prodotto degli elementi\n",
    "print(np.sum(x)) # somma degli elementi\n",
    "print(np.mean(x)) # media\n",
    "print(np.std(x)) # deviazione standard"
   ]
  },
  {
   "cell_type": "markdown",
   "metadata": {
    "slideshow": {
     "slide_type": "subslide"
    }
   },
   "source": [
    "## Functions and Methods in `numpy`\n",
    "\n",
    "**`numpy` provides a number of functions to work with arrays**\n",
    "\n",
    "Here are some functions to work with _pseudo-random numbers_:"
   ]
  },
  {
   "cell_type": "code",
   "execution_count": 28,
   "metadata": {},
   "outputs": [
    {
     "name": "stdout",
     "output_type": "stream",
     "text": [
      "[0.37454012 0.95071431 0.73199394 0.59865848]\n",
      "[2 1 2 2]\n",
      "[6 6 8 2]\n"
     ]
    }
   ],
   "source": [
    "np.random.seed(42) # scelta del \"seed\"\n",
    "shape = (4,)\n",
    "print(np.random.random(shape)) # generazione di numeri casuali in [0,1)\n",
    "print(np.random.randint(low=0, high=4, size=shape)) # generazione di numeri casuali interi\n",
    "vals = [2, 4, 6, 8]\n",
    "print(np.random.choice(vals, size=shape)) # elementi casuali da una co"
   ]
  },
  {
   "cell_type": "markdown",
   "metadata": {},
   "source": [
    "* Le funzioni in questa categoria sono nel modulo `np.random`\n",
    "* Vi sono altri moduli utili (al solito: vedere la documentazione!)"
   ]
  },
  {
   "cell_type": "markdown",
   "metadata": {},
   "source": [
    "## Functions and Methods in `numpy`\n",
    "\n",
    "**Some functions are also available as methods**"
   ]
  },
  {
   "cell_type": "code",
   "execution_count": 29,
   "metadata": {},
   "outputs": [
    {
     "name": "stdout",
     "output_type": "stream",
     "text": [
      "24\n",
      "10\n",
      "2.5\n",
      "1.118033988749895\n"
     ]
    }
   ],
   "source": [
    "x = np.array([1, 2, 3, 4])\n",
    "print(x.prod()) # prodotto degli elementi\n",
    "print(x.sum()) # somma degli elementi\n",
    "print(x.mean()) # media\n",
    "print(x.std()) # deviazione standard"
   ]
  },
  {
   "cell_type": "markdown",
   "metadata": {},
   "source": [
    "* The behavior is the same as with functions\n",
    "* ...But the notation is more compact"
   ]
  },
  {
   "cell_type": "markdown",
   "metadata": {
    "slideshow": {
     "slide_type": "subslide"
    }
   },
   "source": [
    "## Benefits of `numpy`\n",
    "\n",
    "**We can use `numpy` to write more readable and efficient code**\n",
    "\n",
    "E.g. let's assume we need to sum two sequences of numbers\n",
    "\n",
    "* First, we see a native Python solution:"
   ]
  },
  {
   "cell_type": "code",
   "execution_count": 30,
   "metadata": {},
   "outputs": [
    {
     "name": "stdout",
     "output_type": "stream",
     "text": [
      "CPU times: user 573 ms, sys: 128 ms, total: 701 ms\n",
      "Wall time: 700 ms\n"
     ]
    }
   ],
   "source": [
    "%%time\n",
    "n = 20000000\n",
    "a = [i for i in range(n)]\n",
    "b = [i for i in range(n)]\n",
    "c = [v1 + v2 for v1, v2 in zip(a, b)]"
   ]
  },
  {
   "cell_type": "markdown",
   "metadata": {},
   "source": [
    "* The `%%time` directive measures and prints the run-time of a cell"
   ]
  },
  {
   "cell_type": "markdown",
   "metadata": {
    "slideshow": {
     "slide_type": "subslide"
    }
   },
   "source": [
    "## Benefits of `numpy`\n",
    "\n",
    "**We can use `numpy` to write more readable and efficient code**\n",
    "\n",
    "E.g. let's assume we need to sum two sequences of numbers\n",
    "\n",
    "* Then, we solve it using `numpy`"
   ]
  },
  {
   "cell_type": "code",
   "execution_count": 31,
   "metadata": {},
   "outputs": [
    {
     "name": "stdout",
     "output_type": "stream",
     "text": [
      "CPU times: user 189 ms, sys: 95 ms, total: 284 ms\n",
      "Wall time: 281 ms\n"
     ]
    }
   ],
   "source": [
    "%%time\n",
    "n = 20000000\n",
    "a = np.arange(n)\n",
    "b = np.arange(n)\n",
    "c = a + b"
   ]
  },
  {
   "cell_type": "markdown",
   "metadata": {},
   "source": [
    "* The `numpy` version us more readable\n",
    "* ...And also much faster!"
   ]
  }
 ],
 "metadata": {
  "celltoolbar": "Slideshow",
  "kernelspec": {
   "display_name": "Python 3 (ipykernel)",
   "language": "python",
   "name": "python3"
  },
  "language_info": {
   "codemirror_mode": {
    "name": "ipython",
    "version": 3
   },
   "file_extension": ".py",
   "mimetype": "text/x-python",
   "name": "python",
   "nbconvert_exporter": "python",
   "pygments_lexer": "ipython3",
   "version": "3.11.8"
  },
  "rise": {
   "center": false,
   "enable_chalkboard": true,
   "transition": "fade"
  }
 },
 "nbformat": 4,
 "nbformat_minor": 4
}
